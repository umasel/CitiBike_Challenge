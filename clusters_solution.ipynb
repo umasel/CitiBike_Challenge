{
 "cells": [
  {
   "cell_type": "code",
   "execution_count": 5,
   "metadata": {},
   "outputs": [],
   "source": [
    "import pandas as pd"
   ]
  },
  {
   "cell_type": "code",
   "execution_count": 6,
   "metadata": {},
   "outputs": [],
   "source": [
    "# List of CSV files to be combined\n",
    "file_patterns = ['JC-202212-citibike-tripdata.csv', \n",
    "                 'JC-202301-citibike-tripdata.csv', \n",
    "                 'JC-202302-citibike-tripdata.csv',\n",
    "                 'JC-202303-citibike-tripdata.csv',\n",
    "                 'JC-202304-citibike-tripdata.csv',\n",
    "                 'JC-202305-citibike-tripdata.csv',\n",
    "                 'JC-202306-citibike-tripdata.csv',\n",
    "                 'JC-202307-citibike-tripdata.csv',\n",
    "                 'JC-202308-citibike-tripdata.csv',\n",
    "                 'JC-202309-citibike-tripdata.csv',\n",
    "                 'JC-202310-citibike-tripdata.csv',\n",
    "                 'JC-202311-citibike-tripdata.csv']\n"
   ]
  },
  {
   "cell_type": "code",
   "execution_count": 7,
   "metadata": {},
   "outputs": [],
   "source": [
    "# Output file where combined data will be written\n",
    "output_file = 'combined.csv'"
   ]
  },
  {
   "cell_type": "code",
   "execution_count": 8,
   "metadata": {},
   "outputs": [],
   "source": [
    "#Read all CSV files into a list of DataFrames\n",
    "dfs = [pd.read_csv(file) for file in file_patterns]"
   ]
  },
  {
   "cell_type": "code",
   "execution_count": 9,
   "metadata": {},
   "outputs": [],
   "source": [
    "#Concatenate all DataFrames into a single DataFrame\n",
    "combined_df = pd.concat(dfs, ignore_index=True)"
   ]
  },
  {
   "cell_type": "code",
   "execution_count": 10,
   "metadata": {},
   "outputs": [],
   "source": [
    "#Write the combined DataFrame to a CSV file\n",
    "combined_df.to_csv(output_file, index=False)"
   ]
  },
  {
   "cell_type": "code",
   "execution_count": 11,
   "metadata": {},
   "outputs": [],
   "source": [
    "combined_df['StartDate'] = pd.to_datetime(combined_df['started_at']).dt.date\n",
    "combined_df['StartTime'] = pd.to_datetime(combined_df['started_at']).dt.time\n"
   ]
  },
  {
   "cell_type": "code",
   "execution_count": 12,
   "metadata": {},
   "outputs": [
    {
     "name": "stdout",
     "output_type": "stream",
     "text": [
      "            ride_id  rideable_type           started_at             ended_at  \\\n",
      "0  099D81CA71EBADAB   classic_bike  2022-12-23 16:02:26  2022-12-23 16:09:40   \n",
      "1  D979F3B79FC30F1F  electric_bike  2022-12-27 10:54:29  2022-12-27 10:59:23   \n",
      "2  3950909BC3B42E43   classic_bike  2022-12-31 10:39:39  2022-12-31 11:00:52   \n",
      "3  372E50F5FB4FD434   classic_bike  2022-12-05 08:16:10  2022-12-05 08:20:09   \n",
      "4  AB701FB8091C7431   classic_bike  2022-12-02 13:40:36  2022-12-02 13:46:11   \n",
      "\n",
      "                       start_station_name start_station_id  \\\n",
      "0  Mama Johnson Field - 4 St & Jackson St            HB404   \n",
      "1                            Jersey & 3rd            JC074   \n",
      "2                            Morris Canal            JC072   \n",
      "3                            Morris Canal            JC072   \n",
      "4                              Harborside            JC104   \n",
      "\n",
      "        end_station_name end_station_id  start_lat  start_lng    end_lat  \\\n",
      "0       Adams St & 11 St          HB507  40.743140 -74.040041  40.750916   \n",
      "1       Marin Light Rail          JC013  40.723332 -74.045953  40.714584   \n",
      "2  LaGuardia Pl & W 3 St        5721.14  40.712252 -74.038188  40.729170   \n",
      "3         Columbus Drive          JC014  40.712419 -74.038526  40.718355   \n",
      "4          Grove St PATH          JC005  40.719252 -74.034234  40.719586   \n",
      "\n",
      "     end_lng member_casual   StartDate StartTime  \n",
      "0 -74.033541        member  2022-12-23  16:02:26  \n",
      "1 -74.042817        member  2022-12-27  10:54:29  \n",
      "2 -73.998102        member  2022-12-31  10:39:39  \n",
      "3 -74.038914        member  2022-12-05  08:16:10  \n",
      "4 -74.043117        member  2022-12-02  13:40:36  \n"
     ]
    }
   ],
   "source": [
    "print(combined_df.head())"
   ]
  },
  {
   "cell_type": "code",
   "execution_count": 13,
   "metadata": {},
   "outputs": [],
   "source": [
    "combined_df['EndDate'] = pd.to_datetime(combined_df['ended_at']).dt.date\n",
    "combined_df['EndTime'] = pd.to_datetime(combined_df['ended_at']).dt.time"
   ]
  },
  {
   "cell_type": "code",
   "execution_count": 14,
   "metadata": {},
   "outputs": [
    {
     "name": "stdout",
     "output_type": "stream",
     "text": [
      "            ride_id  rideable_type           started_at             ended_at  \\\n",
      "0  099D81CA71EBADAB   classic_bike  2022-12-23 16:02:26  2022-12-23 16:09:40   \n",
      "1  D979F3B79FC30F1F  electric_bike  2022-12-27 10:54:29  2022-12-27 10:59:23   \n",
      "2  3950909BC3B42E43   classic_bike  2022-12-31 10:39:39  2022-12-31 11:00:52   \n",
      "3  372E50F5FB4FD434   classic_bike  2022-12-05 08:16:10  2022-12-05 08:20:09   \n",
      "4  AB701FB8091C7431   classic_bike  2022-12-02 13:40:36  2022-12-02 13:46:11   \n",
      "\n",
      "                       start_station_name start_station_id  \\\n",
      "0  Mama Johnson Field - 4 St & Jackson St            HB404   \n",
      "1                            Jersey & 3rd            JC074   \n",
      "2                            Morris Canal            JC072   \n",
      "3                            Morris Canal            JC072   \n",
      "4                              Harborside            JC104   \n",
      "\n",
      "        end_station_name end_station_id  start_lat  start_lng    end_lat  \\\n",
      "0       Adams St & 11 St          HB507  40.743140 -74.040041  40.750916   \n",
      "1       Marin Light Rail          JC013  40.723332 -74.045953  40.714584   \n",
      "2  LaGuardia Pl & W 3 St        5721.14  40.712252 -74.038188  40.729170   \n",
      "3         Columbus Drive          JC014  40.712419 -74.038526  40.718355   \n",
      "4          Grove St PATH          JC005  40.719252 -74.034234  40.719586   \n",
      "\n",
      "     end_lng member_casual   StartDate StartTime     EndDate   EndTime  \n",
      "0 -74.033541        member  2022-12-23  16:02:26  2022-12-23  16:09:40  \n",
      "1 -74.042817        member  2022-12-27  10:54:29  2022-12-27  10:59:23  \n",
      "2 -73.998102        member  2022-12-31  10:39:39  2022-12-31  11:00:52  \n",
      "3 -74.038914        member  2022-12-05  08:16:10  2022-12-05  08:20:09  \n",
      "4 -74.043117        member  2022-12-02  13:40:36  2022-12-02  13:46:11  \n"
     ]
    }
   ],
   "source": [
    "print(combined_df.head())"
   ]
  },
  {
   "cell_type": "code",
   "execution_count": 15,
   "metadata": {},
   "outputs": [],
   "source": [
    "combined_df.to_csv(output_file, index=False)"
   ]
  },
  {
   "cell_type": "code",
   "execution_count": 18,
   "metadata": {},
   "outputs": [],
   "source": [
    "trips = combined_df[combined_df['start_station_id'] != combined_df['end_station_id']].\\\n",
    "  value_counts(['start_station_name','end_station_name'])[:20]"
   ]
  },
  {
   "cell_type": "code",
   "execution_count": 20,
   "metadata": {},
   "outputs": [
    {
     "name": "stdout",
     "output_type": "stream",
     "text": [
      "            ride_id  rideable_type           started_at             ended_at  \\\n",
      "0  099D81CA71EBADAB   classic_bike  2022-12-23 16:02:26  2022-12-23 16:09:40   \n",
      "1  D979F3B79FC30F1F  electric_bike  2022-12-27 10:54:29  2022-12-27 10:59:23   \n",
      "2  3950909BC3B42E43   classic_bike  2022-12-31 10:39:39  2022-12-31 11:00:52   \n",
      "3  372E50F5FB4FD434   classic_bike  2022-12-05 08:16:10  2022-12-05 08:20:09   \n",
      "4  AB701FB8091C7431   classic_bike  2022-12-02 13:40:36  2022-12-02 13:46:11   \n",
      "\n",
      "                       start_station_name start_station_id  \\\n",
      "0  Mama Johnson Field - 4 St & Jackson St            HB404   \n",
      "1                            Jersey & 3rd            JC074   \n",
      "2                            Morris Canal            JC072   \n",
      "3                            Morris Canal            JC072   \n",
      "4                              Harborside            JC104   \n",
      "\n",
      "        end_station_name end_station_id  start_lat  start_lng    end_lat  \\\n",
      "0       Adams St & 11 St          HB507  40.743140 -74.040041  40.750916   \n",
      "1       Marin Light Rail          JC013  40.723332 -74.045953  40.714584   \n",
      "2  LaGuardia Pl & W 3 St        5721.14  40.712252 -74.038188  40.729170   \n",
      "3         Columbus Drive          JC014  40.712419 -74.038526  40.718355   \n",
      "4          Grove St PATH          JC005  40.719252 -74.034234  40.719586   \n",
      "\n",
      "     end_lng member_casual   StartDate StartTime     EndDate   EndTime  \n",
      "0 -74.033541        member  2022-12-23  16:02:26  2022-12-23  16:09:40  \n",
      "1 -74.042817        member  2022-12-27  10:54:29  2022-12-27  10:59:23  \n",
      "2 -73.998102        member  2022-12-31  10:39:39  2022-12-31  11:00:52  \n",
      "3 -74.038914        member  2022-12-05  08:16:10  2022-12-05  08:20:09  \n",
      "4 -74.043117        member  2022-12-02  13:40:36  2022-12-02  13:46:11  \n"
     ]
    }
   ],
   "source": [
    "print(combined_df.head())"
   ]
  }
 ],
 "metadata": {
  "kernelspec": {
   "display_name": "Python 3 (ipykernel)",
   "language": "python",
   "name": "python3"
  },
  "language_info": {
   "codemirror_mode": {
    "name": "ipython",
    "version": 3
   },
   "file_extension": ".py",
   "mimetype": "text/x-python",
   "name": "python",
   "nbconvert_exporter": "python",
   "pygments_lexer": "ipython3",
   "version": "3.10.13"
  },
  "latex_envs": {
   "LaTeX_envs_menu_present": true,
   "autoclose": false,
   "autocomplete": true,
   "bibliofile": "biblio.bib",
   "cite_by": "apalike",
   "current_citInitial": 1,
   "eqLabelWithNumbers": true,
   "eqNumInitial": 1,
   "hotkeys": {
    "equation": "Ctrl-E",
    "itemize": "Ctrl-I"
   },
   "labels_anchors": false,
   "latex_user_defs": false,
   "report_style_numbering": false,
   "user_envs_cfg": false
  }
 },
 "nbformat": 4,
 "nbformat_minor": 4
}
